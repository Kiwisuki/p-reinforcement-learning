{
 "cells": [
  {
   "cell_type": "code",
   "execution_count": 1,
   "metadata": {},
   "outputs": [],
   "source": [
    "import random\n",
    "import numpy as np \n",
    "import gymnasium as gym\n",
    "from gymnasium import spaces\n",
    "import copy\n",
    "import sys\n",
    "\n",
    "import torch as th\n",
    "from stable_baselines3 import A2C, DQN, PPO\n",
    "\n",
    "from game_2048 import Game2048"
   ]
  },
  {
   "cell_type": "code",
   "execution_count": 2,
   "metadata": {},
   "outputs": [],
   "source": [
    "N_DISCRETE_ACTIONS = 4\n",
    "OBS_SPACE_LIM = [[8193 for _ in range(4)] for _ in range(4)]\n",
    "TENSORBOARDS_LOGDIR = \"./tensorboards\""
   ]
  },
  {
   "cell_type": "code",
   "execution_count": 3,
   "metadata": {},
   "outputs": [],
   "source": [
    "class GameEnv(gym.Env):\n",
    "    \"\"\"Custom Environment that follows gym interface.\"\"\"\n",
    "    def __init__(self):\n",
    "            super().__init__()\n",
    "\n",
    "            self.game = Game2048()\n",
    "            self.action_space = spaces.Discrete(4)\n",
    "            self.observation_space = spaces.Box(low=-1, high=1, shape=(88,), dtype=np.float32)\n",
    "\n",
    "            self.last_state = np.array(self.game.board)\n",
    "            self.last_states = [copy.deepcopy(self.last_state) for _ in range(10)]\n",
    "            self.total_steps = 0\n",
    "\n",
    "\n",
    "\n",
    "    def step(self, action):\n",
    "\n",
    "        current_state, reward_increment, done = self.game.move(action)\n",
    "        current_state = np.array(current_state)\n",
    "        self.update_memory(current_state)\n",
    "\n",
    "        self.total_steps += 1\n",
    "\n",
    "        future_outcomes, future_rewards = self.sim_ahead(current_state)\n",
    "        stuck_future_outcomes = [np.array_equal(current_state, future_outcomes[i]) * 1 for i in range(4)]\n",
    "        reward = self.count_empty_cells(current_state) - self.count_empty_cells(self.last_states[-2])\n",
    "        observation = self.scale_observation(future_outcomes, stuck_future_outcomes, current_state, future_rewards)\n",
    "\n",
    "        done =  np.array_equal(stuck_future_outcomes, np.ones(4))\n",
    "        truncated =  all(np.array_equal(state, current_state) for state in self.last_states)\n",
    "        info = {}\n",
    "        return observation, reward, done, truncated, info\n",
    "\n",
    "\n",
    "    def reset(self, seed=None, options=None):\n",
    "        if seed is not None:\n",
    "            self.game = Game2048(seed)\n",
    "        else:\n",
    "            self.game = Game2048()\n",
    "\n",
    "        self.last_state = np.array(self.game.board)\n",
    "        self.last_states = [copy.deepcopy(self.last_state) for _ in range(10)]\n",
    "        current_state = np.array(self.game.board)\n",
    "        self.update_memory(current_state)\n",
    "\n",
    "        future_outcomes = [\n",
    "            Game2048.left(current_state)[0],\n",
    "            Game2048.right(current_state)[0],\n",
    "            Game2048.up(current_state)[0],\n",
    "            Game2048.down(current_state)[0]\n",
    "        ]\n",
    "\n",
    "        future_rewards = [\n",
    "            Game2048.left(current_state)[1],\n",
    "            Game2048.right(current_state)[1],\n",
    "            Game2048.up(current_state)[1],\n",
    "            Game2048.down(current_state)[1]\n",
    "        ]\n",
    "\n",
    "        stuck_future_outcomes = [np.array_equal(current_state, future_outcomes[i]) * 1 for i in range(4)]\n",
    "\n",
    "        observation = self.scale_observation(future_outcomes, stuck_future_outcomes, current_state, future_rewards)\n",
    "        info = {}\n",
    "        return observation, info\n",
    "\n",
    "\n",
    "    def render(self):\n",
    "        self.game.render_board(self.game.board)\n",
    "\n",
    "    def close(self):\n",
    "        pass\n",
    "\n",
    "    @staticmethod\n",
    "    def count_empty_cells(board):\n",
    "        return np.count_nonzero(np.array(board) == 0)\n",
    "    \n",
    "    @staticmethod\n",
    "    def sim_ahead(board):\n",
    "        directions = [Game2048.left, Game2048.right, Game2048.up, Game2048.down]\n",
    "        future_outcomes = []\n",
    "        future_rewards = []\n",
    "        for direction in directions:\n",
    "            outcome, reward = direction(board)\n",
    "            outcome = np.array(outcome)\n",
    "            future_outcomes.append(outcome)\n",
    "            future_rewards.append(reward)\n",
    "\n",
    "        \n",
    "        return np.array(future_outcomes), np.array(future_rewards)\n",
    "\n",
    "\n",
    "    def valid_action_mask(self):\n",
    "        if 0 in self.game.board:\n",
    "            return np.ones(4).astype(np.float32)\n",
    "        \n",
    "        valid_left = Game2048.left(self.game.board)[0] != self.game.board\n",
    "        valid_right = Game2048.right(self.game.board)[0] != self.game.board\n",
    "        valid_up = Game2048.up(self.game.board)[0] != self.game.board\n",
    "        valid_down = Game2048.down(self.game.board)[0] != self.game.board\n",
    "        return np.array([valid_left, valid_right, valid_up, valid_down]).astype(np.float32)\n",
    "    \n",
    "    def update_memory(self, new_state):\n",
    "        self.last_states.pop(0)\n",
    "        self.last_states.append(copy.deepcopy(new_state))\n",
    "\n",
    "\n",
    "    def scale_observation(self, future_outcomes, stuck_future_outcomes, current_state, future_rewards):\n",
    "        future_outcomes = np.array(future_outcomes)\n",
    "        stuck_future_outcomes = np.array(stuck_future_outcomes)\n",
    "        current_state = np.array(current_state)\n",
    "        future_rewards = np.array(future_rewards)\n",
    "\n",
    "        current_state = (current_state - 1024) / 1024\n",
    "        future_rewards = (future_rewards - 1024) / 1024\n",
    "\n",
    "        for i, outcome in enumerate(future_outcomes):\n",
    "            outcome = (outcome - 1024) / 1024\n",
    "            future_outcomes[i] = outcome\n",
    "\n",
    "        observation = np.concatenate([current_state.ravel(), np.concatenate(future_outcomes).ravel(),\n",
    "                        np.array(stuck_future_outcomes).astype(np.float32), future_rewards]).astype(np.float32)\n",
    "        return observation"
   ]
  },
  {
   "cell_type": "code",
   "execution_count": 4,
   "metadata": {},
   "outputs": [],
   "source": [
    "from stable_baselines3.common.env_checker import check_env\n",
    "env = GameEnv()\n",
    "check_env(env, warn=True)\n",
    "\n",
    "del env"
   ]
  },
  {
   "cell_type": "code",
   "execution_count": 5,
   "metadata": {},
   "outputs": [],
   "source": [
    "def evaluate(model, num_steps=100):\n",
    "    scores = []\n",
    "    boards = []\n",
    "\n",
    "    score_ts = []\n",
    "    board_ts = []\n",
    "\n",
    "\n",
    "\n",
    "    for i in range(num_steps):\n",
    "        score_timeline = []\n",
    "        board_timeline = []\n",
    "        env = GameEnv()\n",
    "        obs, info = env.reset()\n",
    "        done = False\n",
    "        while not done:\n",
    "            action, info = model.predict(obs, deterministic=True)\n",
    "            action = int(model.predict(obs, deterministic=True)[0])\n",
    "            obs, reward, done, truncated, info = env.step(action)\n",
    "            done = done or truncated\n",
    "            board_timeline.append(env.game.board)\n",
    "            score_timeline.append(env.game.total_score)\n",
    "        \n",
    "        score_ts.append(score_timeline)\n",
    "        board_ts.append(board_timeline)\n",
    "        boards.append(env.game.board)\n",
    "        scores.append(env.game.total_score)\n",
    "\n",
    "\n",
    "    scores = np.array(scores)\n",
    "    print(f\"Average score: {scores.mean()}\")\n",
    "\n",
    "    best_board = boards[np.argmax(scores)]\n",
    "    # print max score\n",
    "    print(f'Max score: {np.max(scores)}')\n",
    "    env.game.render_board(best_board)\n",
    "    return scores, boards, score_ts, board_ts\n"
   ]
  },
  {
   "cell_type": "code",
   "execution_count": 6,
   "metadata": {},
   "outputs": [
    {
     "name": "stdout",
     "output_type": "stream",
     "text": [
      "Average score: 5359.18\n",
      "Max score: 13516\n",
      "+-------------------+\n",
      "| 2  | 4  | 8  | 4  |\n",
      "+-------------------+\n",
      "| 8  |256 |128 |256 |\n",
      "+-------------------+\n",
      "| 4  | 16 | 32 | 4  |\n",
      "+-------------------+\n",
      "| 2  |1024| 8  | 2  |\n",
      "+-------------------+\n"
     ]
    }
   ],
   "source": [
    "from sb3_contrib.ppo_mask import MaskablePPO\n",
    "\n",
    "def mask_fn(env: gym.Env) -> np.ndarray:\n",
    "    # Do whatever you'd like in this function to return the action mask\n",
    "    # for the current env. In this example, we assume the env has a\n",
    "    # helpful method we can rely on.\n",
    "    return env.valid_action_mask()\n",
    "\n",
    "model = MaskablePPO.load(\"models/2048_MaskablePPO_Solved\")\n",
    "\n",
    "scores, boards, score_ts, board_ts = evaluate(model, 1000)"
   ]
  },
  {
   "cell_type": "code",
   "execution_count": 7,
   "metadata": {},
   "outputs": [],
   "source": [
    "\n",
    "empty_cells_ts = []\n",
    "for board_timeline in board_ts:\n",
    "    empty_cell_timeline = []\n",
    "    for board in board_timeline:\n",
    "        board = np.array(board)\n",
    "        empty_cells = GameEnv.count_empty_cells(board)\n",
    "        empty_cell_timeline.append(empty_cells)\n",
    "    empty_cells_ts.append(empty_cell_timeline)\n",
    "\n"
   ]
  },
  {
   "cell_type": "code",
   "execution_count": 8,
   "metadata": {},
   "outputs": [],
   "source": [
    "import matplotlib.pyplot as plt\n",
    "import seaborn as sns\n",
    "import pandas as pd"
   ]
  },
  {
   "cell_type": "code",
   "execution_count": 9,
   "metadata": {},
   "outputs": [],
   "source": [
    "class GameStats:\n",
    "    \n",
    "    def __init__(self, board_timeline, score_timeline, empty_cells_timeline):\n",
    "        self.score = score_timeline[-1]\n",
    "        self.board_timeline = board_timeline\n",
    "        self.score_timeline = score_timeline\n",
    "        self.empty_cells_timeline = empty_cells_timeline\n",
    "        self.final_board = board_timeline[-1]\n",
    "        self.final_tile_counts = self.get_tile_counts(self.final_board) \n",
    "        self.timesteps = len(board_timeline)\n",
    "        self.max_tile = np.max(self.final_board)\n",
    "\n",
    "\n",
    "    def get_tile_counts(self, board):\n",
    "        tile_counts = {}\n",
    "        for tile in np.unique(board):\n",
    "            if tile != 0:\n",
    "                tile_counts[tile] = np.count_nonzero(board == tile)\n",
    "\n",
    "        names = [0, 2, 4, 8, 16, 32, 64, 128, 256, 512, 1024, 2048]\n",
    "        for name in names:\n",
    "            if name not in tile_counts:\n",
    "                tile_counts[name] = 0\n",
    "            \n",
    "        return tile_counts\n",
    "\n",
    "    def __repr__(self):\n",
    "        return f\"Score: {self.score}, Final tile counts: {self.final_tile_counts}, Timesteps: {self.timesteps}\"\n"
   ]
  },
  {
   "cell_type": "code",
   "execution_count": 10,
   "metadata": {},
   "outputs": [],
   "source": [
    "GAME_STAT = GameStats(board_ts[0], score_ts[0], empty_cells_ts[0])"
   ]
  },
  {
   "cell_type": "code",
   "execution_count": 11,
   "metadata": {},
   "outputs": [
    {
     "data": {
      "text/plain": [
       "Score: 10692, Final tile counts: {2: 2, 4: 3, 8: 4, 16: 1, 32: 2, 64: 2, 128: 1, 1024: 1, 0: 0, 256: 0, 512: 0, 2048: 0}, Timesteps: 624"
      ]
     },
     "execution_count": 11,
     "metadata": {},
     "output_type": "execute_result"
    }
   ],
   "source": [
    "GAME_STAT"
   ]
  },
  {
   "cell_type": "code",
   "execution_count": 12,
   "metadata": {},
   "outputs": [
    {
     "data": {
      "text/plain": [
       "<seaborn.axisgrid.FacetGrid at 0x2db2fc310>"
      ]
     },
     "execution_count": 12,
     "metadata": {},
     "output_type": "execute_result"
    },
    {
     "data": {
      "image/png": "[encoded data removed]",
      "text/plain": [
       "<Figure size 500x500 with 1 Axes>"
      ]
     },
     "metadata": {},
     "output_type": "display_data"
    }
   ],
   "source": [
    "# plot distribution of scores using displot\n",
    "sns.displot(scores, kde=True, bins=20)\n"
   ]
  },
  {
   "cell_type": "code",
   "execution_count": 13,
   "metadata": {},
   "outputs": [
    {
     "data": {
      "application/vnd.plotly.v1+json": {
       "config": {
        "plotlyServerURL": "https://plotly.com"
       },
       "data": [
        {
         "alignmentgroup": "True",
         "hovertemplate": "variable=0<br>index=%{x}<br>value=%{y}<extra></extra>",
         "legendgroup": "0",
         "marker": {
          "color": "#636efa",
          "pattern": {
           "shape": ""
          }
         },
         "name": "0",
         "offsetgroup": "0",
         "orientation": "v",
         "showlegend": true,
         "textposition": "auto",
         "type": "bar",
         "x": [
          32,
          64,
          128,
          256,
          512,
          1024
         ],
         "xaxis": "x",
         "y": [
          0.002,
          0.009,
          0.095,
          0.346,
          0.475,
          0.073
         ],
         "yaxis": "y"
        }
       ],
       "layout": {
        "barmode": "relative",
        "legend": {
         "title": {
          "text": "variable"
         },
         "tracegroupgap": 0
        },
        "margin": {
         "t": 60
        },
        "template": {
         "data": {
          "bar": [
           {
            "error_x": {
             "color": "#2a3f5f"
            },
            "error_y": {
             "color": "#2a3f5f"
            },
            "marker": {
             "line": {
              "color": "#E5ECF6",
              "width": 0.5
             },
             "pattern": {
              "fillmode": "overlay",
              "size": 10,
              "solidity": 0.2
             }
            },
            "type": "bar"
           }
          ],
          "barpolar": [
           {
            "marker": {
             "line": {
              "color": "#E5ECF6",
              "width": 0.5
             },
             "pattern": {
              "fillmode": "overlay",
              "size": 10,
              "solidity": 0.2
             }
            },
            "type": "barpolar"
           }
          ],
          "carpet": [
           {
            "aaxis": {
             "endlinecolor": "#2a3f5f",
             "gridcolor": "white",
             "linecolor": "white",
             "minorgridcolor": "white",
             "startlinecolor": "#2a3f5f"
            },
            "baxis": {
             "endlinecolor": "#2a3f5f",
             "gridcolor": "white",
             "linecolor": "white",
             "minorgridcolor": "white",
             "startlinecolor": "#2a3f5f"
            },
            "type": "carpet"
           }
          ],
          "choropleth": [
           {
            "colorbar": {
             "outlinewidth": 0,
             "ticks": ""
            },
            "type": "choropleth"
           }
          ],
          "contour": [
           {
            "colorbar": {
             "outlinewidth": 0,
             "ticks": ""
            },
            "colorscale": [
             [
              0,
              "#0d0887"
             ],
             [
              0.1111111111111111,
              "#46039f"
             ],
             [
              0.2222222222222222,
              "#7201a8"
             ],
             [
              0.3333333333333333,
              "#9c179e"
             ],
             [
              0.4444444444444444,
              "#bd3786"
             ],
             [
              0.5555555555555556,
              "#d8576b"
             ],
             [
              0.6666666666666666,
              "#ed7953"
             ],
             [
              0.7777777777777778,
              "#fb9f3a"
             ],
             [
              0.8888888888888888,
              "#fdca26"
             ],
             [
              1,
              "#f0f921"
             ]
            ],
            "type": "contour"
           }
          ],
          "contourcarpet": [
           {
            "colorbar": {
             "outlinewidth": 0,
             "ticks": ""
            },
            "type": "contourcarpet"
           }
          ],
          "heatmap": [
           {
            "colorbar": {
             "outlinewidth": 0,
             "ticks": ""
            },
            "colorscale": [
             [
              0,
              "#0d0887"
             ],
             [
              0.1111111111111111,
              "#46039f"
             ],
             [
              0.2222222222222222,
              "#7201a8"
             ],
             [
              0.3333333333333333,
              "#9c179e"
             ],
             [
              0.4444444444444444,
              "#bd3786"
             ],
             [
              0.5555555555555556,
              "#d8576b"
             ],
             [
              0.6666666666666666,
              "#ed7953"
             ],
             [
              0.7777777777777778,
              "#fb9f3a"
             ],
             [
              0.8888888888888888,
              "#fdca26"
             ],
             [
              1,
              "#f0f921"
             ]
            ],
            "type": "heatmap"
           }
          ],
          "heatmapgl": [
           {
            "colorbar": {
             "outlinewidth": 0,
             "ticks": ""
            },
            "colorscale": [
             [
              0,
              "#0d0887"
             ],
             [
              0.1111111111111111,
              "#46039f"
             ],
             [
              0.2222222222222222,
              "#7201a8"
             ],
             [
              0.3333333333333333,
              "#9c179e"
             ],
             [
              0.4444444444444444,
              "#bd3786"
             ],
             [
              0.5555555555555556,
              "#d8576b"
             ],
             [
              0.6666666666666666,
              "#ed7953"
             ],
             [
              0.7777777777777778,
              "#fb9f3a"
             ],
             [
              0.8888888888888888,
              "#fdca26"
             ],
             [
              1,
              "#f0f921"
             ]
            ],
            "type": "heatmapgl"
           }
          ],
          "histogram": [
           {
            "marker": {
             "pattern": {
              "fillmode": "overlay",
              "size": 10,
              "solidity": 0.2
             }
            },
            "type": "histogram"
           }
          ],
          "histogram2d": [
           {
            "colorbar": {
             "outlinewidth": 0,
             "ticks": ""
            },
            "colorscale": [
             [
              0,
              "#0d0887"
             ],
             [
              0.1111111111111111,
              "#46039f"
             ],
             [
              0.2222222222222222,
              "#7201a8"
             ],
             [
              0.3333333333333333,
              "#9c179e"
             ],
             [
              0.4444444444444444,
              "#bd3786"
             ],
             [
              0.5555555555555556,
              "#d8576b"
             ],
             [
              0.6666666666666666,
              "#ed7953"
             ],
             [
              0.7777777777777778,
              "#fb9f3a"
             ],
             [
              0.8888888888888888,
              "#fdca26"
             ],
             [
              1,
              "#f0f921"
             ]
            ],
            "type": "histogram2d"
           }
          ],
          "histogram2dcontour": [
           {
            "colorbar": {
             "outlinewidth": 0,
             "ticks": ""
            },
            "colorscale": [
             [
              0,
              "#0d0887"
             ],
             [
              0.1111111111111111,
              "#46039f"
             ],
             [
              0.2222222222222222,
              "#7201a8"
             ],
             [
              0.3333333333333333,
              "#9c179e"
             ],
             [
              0.4444444444444444,
              "#bd3786"
             ],
             [
              0.5555555555555556,
              "#d8576b"
             ],
             [
              0.6666666666666666,
              "#ed7953"
             ],
             [
              0.7777777777777778,
              "#fb9f3a"
             ],
             [
              0.8888888888888888,
              "#fdca26"
             ],
             [
              1,
              "#f0f921"
             ]
            ],
            "type": "histogram2dcontour"
           }
          ],
          "mesh3d": [
           {
            "colorbar": {
             "outlinewidth": 0,
             "ticks": ""
            },
            "type": "mesh3d"
           }
          ],
          "parcoords": [
           {
            "line": {
             "colorbar": {
              "outlinewidth": 0,
              "ticks": ""
             }
            },
            "type": "parcoords"
           }
          ],
          "pie": [
           {
            "automargin": true,
            "type": "pie"
           }
          ],
          "scatter": [
           {
            "fillpattern": {
             "fillmode": "overlay",
             "size": 10,
             "solidity": 0.2
            },
            "type": "scatter"
           }
          ],
          "scatter3d": [
           {
            "line": {
             "colorbar": {
              "outlinewidth": 0,
              "ticks": ""
             }
            },
            "marker": {
             "colorbar": {
              "outlinewidth": 0,
              "ticks": ""
             }
            },
            "type": "scatter3d"
           }
          ],
          "scattercarpet": [
           {
            "marker": {
             "colorbar": {
              "outlinewidth": 0,
              "ticks": ""
             }
            },
            "type": "scattercarpet"
           }
          ],
          "scattergeo": [
           {
            "marker": {
             "colorbar": {
              "outlinewidth": 0,
              "ticks": ""
             }
            },
            "type": "scattergeo"
           }
          ],
          "scattergl": [
           {
            "marker": {
             "colorbar": {
              "outlinewidth": 0,
              "ticks": ""
             }
            },
            "type": "scattergl"
           }
          ],
          "scattermapbox": [
           {
            "marker": {
             "colorbar": {
              "outlinewidth": 0,
              "ticks": ""
             }
            },
            "type": "scattermapbox"
           }
          ],
          "scatterpolar": [
           {
            "marker": {
             "colorbar": {
              "outlinewidth": 0,
              "ticks": ""
             }
            },
            "type": "scatterpolar"
           }
          ],
          "scatterpolargl": [
           {
            "marker": {
             "colorbar": {
              "outlinewidth": 0,
              "ticks": ""
             }
            },
            "type": "scatterpolargl"
           }
          ],
          "scatterternary": [
           {
            "marker": {
             "colorbar": {
              "outlinewidth": 0,
              "ticks": ""
             }
            },
            "type": "scatterternary"
           }
          ],
          "surface": [
           {
            "colorbar": {
             "outlinewidth": 0,
             "ticks": ""
            },
            "colorscale": [
             [
              0,
              "#0d0887"
             ],
             [
              0.1111111111111111,
              "#46039f"
             ],
             [
              0.2222222222222222,
              "#7201a8"
             ],
             [
              0.3333333333333333,
              "#9c179e"
             ],
             [
              0.4444444444444444,
              "#bd3786"
             ],
             [
              0.5555555555555556,
              "#d8576b"
             ],
             [
              0.6666666666666666,
              "#ed7953"
             ],
             [
              0.7777777777777778,
              "#fb9f3a"
             ],
             [
              0.8888888888888888,
              "#fdca26"
             ],
             [
              1,
              "#f0f921"
             ]
            ],
            "type": "surface"
           }
          ],
          "table": [
           {
            "cells": {
             "fill": {
              "color": "#EBF0F8"
             },
             "line": {
              "color": "white"
             }
            },
            "header": {
             "fill": {
              "color": "#C8D4E3"
             },
             "line": {
              "color": "white"
             }
            },
            "type": "table"
           }
          ]
         },
         "layout": {
          "annotationdefaults": {
           "arrowcolor": "#2a3f5f",
           "arrowhead": 0,
           "arrowwidth": 1
          },
          "autotypenumbers": "strict",
          "coloraxis": {
           "colorbar": {
            "outlinewidth": 0,
            "ticks": ""
           }
          },
          "colorscale": {
           "diverging": [
            [
             0,
             "#8e0152"
            ],
            [
             0.1,
             "#c51b7d"
            ],
            [
             0.2,
             "#de77ae"
            ],
            [
             0.3,
             "#f1b6da"
            ],
            [
             0.4,
             "#fde0ef"
            ],
            [
             0.5,
             "#f7f7f7"
            ],
            [
             0.6,
             "#e6f5d0"
            ],
            [
             0.7,
             "#b8e186"
            ],
            [
             0.8,
             "#7fbc41"
            ],
            [
             0.9,
             "#4d9221"
            ],
            [
             1,
             "#276419"
            ]
           ],
           "sequential": [
            [
             0,
             "#0d0887"
            ],
            [
             0.1111111111111111,
             "#46039f"
            ],
            [
             0.2222222222222222,
             "#7201a8"
            ],
            [
             0.3333333333333333,
             "#9c179e"
            ],
            [
             0.4444444444444444,
             "#bd3786"
            ],
            [
             0.5555555555555556,
             "#d8576b"
            ],
            [
             0.6666666666666666,
             "#ed7953"
            ],
            [
             0.7777777777777778,
             "#fb9f3a"
            ],
            [
             0.8888888888888888,
             "#fdca26"
            ],
            [
             1,
             "#f0f921"
            ]
           ],
           "sequentialminus": [
            [
             0,
             "#0d0887"
            ],
            [
             0.1111111111111111,
             "#46039f"
            ],
            [
             0.2222222222222222,
             "#7201a8"
            ],
            [
             0.3333333333333333,
             "#9c179e"
            ],
            [
             0.4444444444444444,
             "#bd3786"
            ],
            [
             0.5555555555555556,
             "#d8576b"
            ],
            [
             0.6666666666666666,
             "#ed7953"
            ],
            [
             0.7777777777777778,
             "#fb9f3a"
            ],
            [
             0.8888888888888888,
             "#fdca26"
            ],
            [
             1,
             "#f0f921"
            ]
           ]
          },
          "colorway": [
           "#636efa",
           "#EF553B",
           "#00cc96",
           "#ab63fa",
           "#FFA15A",
           "#19d3f3",
           "#FF6692",
           "#B6E880",
           "#FF97FF",
           "#FECB52"
          ],
          "font": {
           "color": "#2a3f5f"
          },
          "geo": {
           "bgcolor": "white",
           "lakecolor": "white",
           "landcolor": "#E5ECF6",
           "showlakes": true,
           "showland": true,
           "subunitcolor": "white"
          },
          "hoverlabel": {
           "align": "left"
          },
          "hovermode": "closest",
          "mapbox": {
           "style": "light"
          },
          "paper_bgcolor": "white",
          "plot_bgcolor": "#E5ECF6",
          "polar": {
           "angularaxis": {
            "gridcolor": "white",
            "linecolor": "white",
            "ticks": ""
           },
           "bgcolor": "#E5ECF6",
           "radialaxis": {
            "gridcolor": "white",
            "linecolor": "white",
            "ticks": ""
           }
          },
          "scene": {
           "xaxis": {
            "backgroundcolor": "#E5ECF6",
            "gridcolor": "white",
            "gridwidth": 2,
            "linecolor": "white",
            "showbackground": true,
            "ticks": "",
            "zerolinecolor": "white"
           },
           "yaxis": {
            "backgroundcolor": "#E5ECF6",
            "gridcolor": "white",
            "gridwidth": 2,
            "linecolor": "white",
            "showbackground": true,
            "ticks": "",
            "zerolinecolor": "white"
           },
           "zaxis": {
            "backgroundcolor": "#E5ECF6",
            "gridcolor": "white",
            "gridwidth": 2,
            "linecolor": "white",
            "showbackground": true,
            "ticks": "",
            "zerolinecolor": "white"
           }
          },
          "shapedefaults": {
           "line": {
            "color": "#2a3f5f"
           }
          },
          "ternary": {
           "aaxis": {
            "gridcolor": "white",
            "linecolor": "white",
            "ticks": ""
           },
           "baxis": {
            "gridcolor": "white",
            "linecolor": "white",
            "ticks": ""
           },
           "bgcolor": "#E5ECF6",
           "caxis": {
            "gridcolor": "white",
            "linecolor": "white",
            "ticks": ""
           }
          },
          "title": {
           "x": 0.05
          },
          "xaxis": {
           "automargin": true,
           "gridcolor": "white",
           "linecolor": "white",
           "ticks": "",
           "title": {
            "standoff": 15
           },
           "zerolinecolor": "white",
           "zerolinewidth": 2
          },
          "yaxis": {
           "automargin": true,
           "gridcolor": "white",
           "linecolor": "white",
           "ticks": "",
           "title": {
            "standoff": 15
           },
           "zerolinecolor": "white",
           "zerolinewidth": 2
          }
         }
        },
        "xaxis": {
         "anchor": "y",
         "domain": [
          0,
          1
         ],
         "title": {
          "text": "index"
         }
        },
        "yaxis": {
         "anchor": "x",
         "domain": [
          0,
          1
         ],
         "title": {
          "text": "value"
         }
        }
       }
      }
     },
     "metadata": {},
     "output_type": "display_data"
    }
   ],
   "source": [
    "# plot percentages by max tile\n",
    "max_tiles = []\n",
    "for board in boards:\n",
    "    max_tiles.append(np.max(board))\n",
    "\n",
    "max_tiles = np.array(max_tiles)\n",
    "\n",
    "max_tiles = pd.Series(max_tiles)\n",
    "\n",
    "max_tiles.value_counts(normalize=True).sort_index().plot(kind='bar', backend='plotly')"
   ]
  },
  {
   "cell_type": "code",
   "execution_count": null,
   "metadata": {},
   "outputs": [],
   "source": []
  }
 ],
 "metadata": {
  "kernelspec": {
   "display_name": "surf_rl",
   "language": "python",
   "name": "python3"
  },
  "language_info": {
   "codemirror_mode": {
    "name": "ipython",
    "version": 3
   },
   "file_extension": ".py",
   "mimetype": "text/x-python",
   "name": "python",
   "nbconvert_exporter": "python",
   "pygments_lexer": "ipython3",
   "version": "3.9.16"
  },
  "orig_nbformat": 4
 },
 "nbformat": 4,
 "nbformat_minor": 2
}
